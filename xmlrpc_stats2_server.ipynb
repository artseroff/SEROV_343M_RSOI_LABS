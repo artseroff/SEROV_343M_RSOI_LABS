{
 "cells": [
  {
   "cell_type": "markdown",
   "metadata": {},
   "source": [
    "#### Файл сервера xmlrpc_stats_server_p3.ipynb на Python 3 "
   ]
  },
  {
   "cell_type": "code",
   "execution_count": null,
   "metadata": {
    "pycharm": {
     "name": "#%%\n",
     "is_executing": true
    }
   },
   "outputs": [
    {
     "name": "stdout",
     "output_type": "stream",
     "text": [
      "Listening on port 8038...\n"
     ]
    },
    {
     "name": "stderr",
     "output_type": "stream",
     "text": [
      "127.0.0.1 - - [11/Oct/2023 12:42:32] \"POST /RPC2 HTTP/1.1\" 200 -\n",
      "127.0.0.1 - - [11/Oct/2023 12:42:34] \"POST /RPC2 HTTP/1.1\" 200 -\n",
      "127.0.0.1 - - [11/Oct/2023 12:42:36] \"POST /RPC2 HTTP/1.1\" 200 -\n"
     ]
    }
   ],
   "source": [
    "\n",
    "import sqlite3\n",
    "from xmlrpc.server import SimpleXMLRPCRequestHandler\n",
    "from xmlrpc.server import SimpleXMLRPCServer\n",
    "\n",
    "\n",
    "class RequestHandler(SimpleXMLRPCRequestHandler):\n",
    "    rpc_paths = ('/RPC2',)\n",
    "\n",
    "\n",
    "server = SimpleXMLRPCServer((\"localhost\", 8038),\n",
    "                            requestHandler=RequestHandler)\n",
    "\n",
    "LOG_DB = 'resources/log.db'\n",
    "\n",
    "\n",
    "# Добавление строки в лог\n",
    "def add_log(event, event_time, work_time):\n",
    "    conn = sqlite3.connect(LOG_DB)\n",
    "    conn.cursor().execute('INSERT INTO log VALUES (?, ?, ?)', (event, event_time, work_time))\n",
    "    conn.commit()\n",
    "    conn.close()\n",
    "    return True\n",
    "\n",
    "\n",
    "server.register_function(add_log, 'add_log')\n",
    "\n",
    "\n",
    "def get_conditions_and_params(par_type='', par_start_time='', par_end_time='', max_eval_time=None):\n",
    "    conditions = []\n",
    "    params = {}\n",
    "    if par_type != '':\n",
    "        conditions.append('log.event_type = :par_type')\n",
    "        params['par_type'] = par_type\n",
    "    if par_start_time != '':\n",
    "        conditions.append('log.event_time >= :par_start_time')\n",
    "        params['par_start_time'] = par_start_time\n",
    "    if par_end_time != '':\n",
    "        conditions.append('log.event_time <= :par_end_time')\n",
    "        params['par_end_time'] = par_end_time\n",
    "    if not max_eval_time is None:\n",
    "        conditions.append('log.work_time <= :max_eval_time')\n",
    "        params['max_eval_time'] = max_eval_time\n",
    "    return conditions, params\n",
    "\n",
    "\n",
    "def get_info_from_log(par_type='', par_start_time='', par_end_time='', max_eval_time=None):\n",
    "    par_type = par_type.strip()\n",
    "    par_start_time = par_start_time.strip()\n",
    "    par_end_time = par_end_time.strip()\n",
    "\n",
    "    conn = sqlite3.connect('resources/log.db')  #LOG_DB)\n",
    "    conditions, params = get_conditions_and_params(par_type, par_start_time, par_end_time, max_eval_time)\n",
    "    query = 'SELECT * FROM log' + (' WHERE ' if len(conditions) > 0 else '') + ' AND '.join(conditions)\n",
    "    cursor = conn.execute(query, params)\n",
    "    info = \"\".join([str(row) + \"\\n\" for row in cursor])\n",
    "    conn.close()\n",
    "    return info\n",
    "server.register_function(get_info_from_log, 'get_info_from_log')\n",
    "\n",
    "def create_db():\n",
    "    conn = sqlite3.connect(LOG_DB)\n",
    "    conn.cursor().execute('''CREATE TABLE IF NOT EXISTS log (event_type TEXT, event_time TEXT, work_time REAL)''')\n",
    "    conn.commit()\n",
    "    conn.close()\n",
    "\n",
    "create_db()\n",
    "print(\"Listening on port 8038...\")\n",
    "server.serve_forever()\n"
   ]
  },
  {
   "cell_type": "code",
   "execution_count": null,
   "metadata": {},
   "outputs": [],
   "source": []
  },
  {
   "cell_type": "code",
   "execution_count": null,
   "metadata": {
    "pycharm": {
     "name": "#%%\n"
    }
   },
   "outputs": [],
   "source": []
  }
 ],
 "metadata": {
  "kernelspec": {
   "display_name": "Python 3 (ipykernel)",
   "language": "python",
   "name": "python3"
  },
  "language_info": {
   "codemirror_mode": {
    "name": "ipython",
    "version": 3
   },
   "file_extension": ".py",
   "mimetype": "text/x-python",
   "name": "python",
   "nbconvert_exporter": "python",
   "pygments_lexer": "ipython3",
   "version": "3.10.13"
  }
 },
 "nbformat": 4,
 "nbformat_minor": 2
}