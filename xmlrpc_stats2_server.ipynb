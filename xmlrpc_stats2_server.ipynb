{
 "cells": [
  {
   "cell_type": "markdown",
   "metadata": {},
   "source": [
    "#### Файл сервера xmlrpc_stats_server_p3.ipynb на Python 3 "
   ]
  },
  {
   "cell_type": "code",
   "execution_count": 1,
   "metadata": {
    "pycharm": {
     "name": "#%%\n"
    },
    "ExecuteTime": {
     "end_time": "2023-11-07T13:49:03.210166700Z",
     "start_time": "2023-11-07T13:33:09.808893800Z"
    }
   },
   "outputs": [
    {
     "name": "stdout",
     "output_type": "stream",
     "text": [
      "Listening on port 8038...\n"
     ]
    },
    {
     "name": "stderr",
     "output_type": "stream",
     "text": [
      "127.0.0.1 - - [07/Nov/2023 16:33:47] \"POST /RPC2 HTTP/1.1\" 200 -\n",
      "127.0.0.1 - - [07/Nov/2023 16:33:55] \"POST /RPC2 HTTP/1.1\" 200 -\n",
      "127.0.0.1 - - [07/Nov/2023 16:34:04] \"POST /RPC2 HTTP/1.1\" 200 -\n",
      "127.0.0.1 - - [07/Nov/2023 16:34:12] \"POST /RPC2 HTTP/1.1\" 200 -\n",
      "127.0.0.1 - - [07/Nov/2023 16:34:20] \"POST /RPC2 HTTP/1.1\" 200 -\n",
      "127.0.0.1 - - [07/Nov/2023 16:34:29] \"POST /RPC2 HTTP/1.1\" 200 -\n",
      "127.0.0.1 - - [07/Nov/2023 16:34:37] \"POST /RPC2 HTTP/1.1\" 200 -\n",
      "127.0.0.1 - - [07/Nov/2023 16:34:45] \"POST /RPC2 HTTP/1.1\" 200 -\n",
      "127.0.0.1 - - [07/Nov/2023 16:34:53] \"POST /RPC2 HTTP/1.1\" 200 -\n",
      "127.0.0.1 - - [07/Nov/2023 16:35:02] \"POST /RPC2 HTTP/1.1\" 200 -\n",
      "127.0.0.1 - - [07/Nov/2023 16:48:46] \"POST /RPC2 HTTP/1.1\" 200 -\n",
      "127.0.0.1 - - [07/Nov/2023 16:48:48] \"POST /RPC2 HTTP/1.1\" 200 -\n",
      "127.0.0.1 - - [07/Nov/2023 16:48:50] \"POST /RPC2 HTTP/1.1\" 200 -\n",
      "\n",
      "KeyboardInterrupt\n",
      "\n"
     ]
    }
   ],
   "source": [
    "\n",
    "import sqlite3\n",
    "from xmlrpc.server import SimpleXMLRPCRequestHandler\n",
    "from xmlrpc.server import SimpleXMLRPCServer\n",
    "import pandas as pd\n",
    "\n",
    "class RequestHandler(SimpleXMLRPCRequestHandler):\n",
    "    rpc_paths = ('/RPC2',)\n",
    "\n",
    "\n",
    "server = SimpleXMLRPCServer((\"localhost\", 8038),\n",
    "                            requestHandler=RequestHandler)\n",
    "server.register_introspection_functions()\n",
    "\n",
    "LOG_DB = 'resources/log.db'\n",
    "\n",
    "\n",
    "# Добавление строки в лог\n",
    "def add_log(event, event_time, work_time):\n",
    "    conn = sqlite3.connect(LOG_DB)\n",
    "    conn.cursor().execute('INSERT INTO log VALUES (?, ?, ?)', (event, event_time, work_time))\n",
    "    conn.commit()\n",
    "    conn.close()\n",
    "    return True\n",
    "\n",
    "\n",
    "server.register_function(add_log, 'add_log')\n",
    "\n",
    "\n",
    "def get_conditions_and_params(par_type='', par_start_time='', par_end_time='', max_eval_time=None):\n",
    "    conditions = []\n",
    "    params = {}\n",
    "    if par_type != '':\n",
    "        conditions.append('log.event_type = :par_type')\n",
    "        params['par_type'] = par_type\n",
    "    if par_start_time != '':\n",
    "        conditions.append('log.event_time >= :par_start_time')\n",
    "        params['par_start_time'] = par_start_time\n",
    "    if par_end_time != '':\n",
    "        conditions.append('log.event_time <= :par_end_time')\n",
    "        params['par_end_time'] = par_end_time\n",
    "    if not max_eval_time is None:\n",
    "        conditions.append('log.work_time <= :max_eval_time')\n",
    "        params['max_eval_time'] = max_eval_time\n",
    "    return conditions, params\n",
    "\n",
    "\n",
    "def get_info_from_log(par_type='', par_start_time='', par_end_time='', max_eval_time=None):\n",
    "    par_type = par_type.strip()\n",
    "    par_start_time = par_start_time.strip()\n",
    "    par_end_time = par_end_time.strip()\n",
    "\n",
    "    conn = sqlite3.connect('resources/log.db')  #LOG_DB)\n",
    "    conditions, params = get_conditions_and_params(par_type, par_start_time, par_end_time, max_eval_time)\n",
    "    query = 'SELECT * FROM log' + (' WHERE ' if len(conditions) > 0 else '') + ' AND '.join(conditions)\n",
    "    cursor = conn.execute(query, params)\n",
    "    info = \"\".join([str(row) + \"\\n\" for row in cursor])\n",
    "    conn.close()\n",
    "    return info\n",
    "server.register_function(get_info_from_log, 'get_info_from_log')\n",
    "\n",
    "def get_df_from_log():\n",
    "    conn = sqlite3.connect('resources/log.db')  \n",
    "    query = 'SELECT * FROM log'\n",
    "    cursor = conn.execute(query)\n",
    "    df = pd.DataFrame(cursor.fetchall())\n",
    "    df.columns = cursor.keys()\n",
    "    conn.close()\n",
    "    return df\n",
    "server.register_function(get_info_from_log, 'get_df_from_log')\n",
    "\n",
    "def create_db():\n",
    "    conn = sqlite3.connect(LOG_DB)\n",
    "    conn.cursor().execute('''CREATE TABLE IF NOT EXISTS log (event_type TEXT, event_time TEXT, work_time REAL)''')\n",
    "    conn.commit()\n",
    "    conn.close()\n",
    "\n",
    "create_db()\n",
    "print(\"Listening on port 8038...\")\n",
    "server.serve_forever()\n"
   ]
  },
  {
   "cell_type": "code",
   "execution_count": null,
   "outputs": [],
   "source": [],
   "metadata": {
    "collapsed": false
   }
  }
 ],
 "metadata": {
  "kernelspec": {
   "display_name": "Python 3 (ipykernel)",
   "language": "python",
   "name": "python3"
  },
  "language_info": {
   "codemirror_mode": {
    "name": "ipython",
    "version": 3
   },
   "file_extension": ".py",
   "mimetype": "text/x-python",
   "name": "python",
   "nbconvert_exporter": "python",
   "pygments_lexer": "ipython3",
   "version": "3.10.13"
  }
 },
 "nbformat": 4,
 "nbformat_minor": 2
}
