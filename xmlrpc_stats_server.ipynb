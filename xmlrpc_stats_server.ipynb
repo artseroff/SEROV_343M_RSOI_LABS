{
 "cells": [
  {
   "cell_type": "markdown",
   "metadata": {},
   "source": [
    "#### Файл сервера xmlrpc_stats_server_p3.ipynb на Python 3 "
   ]
  },
  {
   "cell_type": "code",
   "execution_count": 1,
   "outputs": [
    {
     "name": "stdout",
     "output_type": "stream",
     "text": [
      "Listening on port 8018...\n"
     ]
    },
    {
     "name": "stderr",
     "output_type": "stream",
     "text": [
      "127.0.0.1 - - [10/Oct/2023 14:28:40] \"POST /RPC2 HTTP/1.1\" 200 -\n",
      "127.0.0.1 - - [10/Oct/2023 14:28:44] \"POST /RPC2 HTTP/1.1\" 200 -\n",
      "127.0.0.1 - - [10/Oct/2023 14:28:48] \"POST /RPC2 HTTP/1.1\" 200 -\n",
      "127.0.0.1 - - [10/Oct/2023 14:28:52] \"POST /RPC2 HTTP/1.1\" 200 -\n",
      "127.0.0.1 - - [10/Oct/2023 14:28:57] \"POST /RPC2 HTTP/1.1\" 200 -\n",
      "127.0.0.1 - - [10/Oct/2023 14:29:01] \"POST /RPC2 HTTP/1.1\" 200 -\n",
      "127.0.0.1 - - [10/Oct/2023 14:29:05] \"POST /RPC2 HTTP/1.1\" 200 -\n",
      "127.0.0.1 - - [10/Oct/2023 14:29:09] \"POST /RPC2 HTTP/1.1\" 200 -\n",
      "127.0.0.1 - - [10/Oct/2023 14:29:13] \"POST /RPC2 HTTP/1.1\" 200 -\n",
      "127.0.0.1 - - [10/Oct/2023 14:29:17] \"POST /RPC2 HTTP/1.1\" 200 -\n",
      "127.0.0.1 - - [10/Oct/2023 14:29:21] \"POST /RPC2 HTTP/1.1\" 200 -\n",
      "\n",
      "KeyboardInterrupt\n",
      "\n"
     ]
    }
   ],
   "source": [
    "\n",
    "from xmlrpc.server import SimpleXMLRPCServer\n",
    "from xmlrpc.server import SimpleXMLRPCRequestHandler\n",
    "\n",
    "import datetime\n",
    "\n",
    "import os\n",
    "import pandas as pd\n",
    "\n",
    "class RequestHandler(SimpleXMLRPCRequestHandler):\n",
    "    rpc_paths = ('/RPC2',)\n",
    "\n",
    "server = SimpleXMLRPCServer((\"localhost\", 8018), \n",
    "                            requestHandler=RequestHandler)\n",
    "LOG_FILENAME = 'resources/log.csv'\n",
    "cur_logfile_size = None\n",
    "MAX_LOG_SIZE = 20\n",
    "\n",
    "# Добавление строки в лог\n",
    "def add_log(sname):\n",
    "    global cur_logfile_size\n",
    "    f = open(LOG_FILENAME,'a')\n",
    "    if cur_logfile_size is None:\n",
    "        appendable_file = open(LOG_FILENAME, 'r')\n",
    "        cur_logfile_size = len(appendable_file.readlines())\n",
    "        appendable_file.close()\n",
    "    if cur_logfile_size>=MAX_LOG_SIZE:\n",
    "        f.close()\n",
    "        cur_logfile_size = 0\n",
    "        os.rename(LOG_FILENAME, \"resources/\"+datetime.datetime.now().strftime(\"%Y%m%d_%H%M%S\"))\n",
    "        f = open(LOG_FILENAME,'a')\n",
    "\n",
    "    f.write(str(sname)+','+ datetime.datetime.now().strftime(\"%Y-%m-%d %H:%M:%S\") +'\\n')\n",
    "    cur_logfile_size+=1\n",
    "    f.close()\n",
    "    return True\n",
    "server.register_function(add_log, 'add_log')\n",
    "\n",
    "def get_info_from_log(par_type= '',par_start_time= '',par_end_time= ''):\n",
    "    par_type = par_type.strip()\n",
    "    par_start_time = par_start_time.strip()\n",
    "    par_end_time = par_end_time.strip()\n",
    "\n",
    "    f = open(LOG_FILENAME,'r')\n",
    "    lines = f.readlines()\n",
    "    result = \"\"\n",
    "    for line in lines:\n",
    "        type_fun, time = line.split(\",\")\n",
    "        if (par_type == type_fun) if not par_type == '' else True and (par_start_time <= time) \\\n",
    "        if not par_start_time == '' else True and (time <= par_end_time) if not par_end_time == '' else True :\n",
    "            result = result + type_fun + ',' + time\n",
    "    f.close()\n",
    "    return result\n",
    "\n",
    "server.register_function(get_info_from_log, 'get_info_from_log')\n",
    "\n",
    "print (\"Listening on port 8018...\")\n",
    "server.serve_forever()\n"
   ],
   "metadata": {
    "collapsed": false,
    "pycharm": {
     "name": "#%%\n"
    }
   }
  },
  {
   "cell_type": "code",
   "execution_count": null,
   "metadata": {},
   "outputs": [],
   "source": []
  },
  {
   "cell_type": "code",
   "execution_count": null,
   "outputs": [],
   "source": [],
   "metadata": {
    "collapsed": false,
    "pycharm": {
     "name": "#%%\n"
    }
   }
  }
 ],
 "metadata": {
  "kernelspec": {
   "display_name": "Python 3 (ipykernel)",
   "language": "python",
   "name": "python3"
  },
  "language_info": {
   "codemirror_mode": {
    "name": "ipython",
    "version": 3
   },
   "file_extension": ".py",
   "mimetype": "text/x-python",
   "name": "python",
   "nbconvert_exporter": "python",
   "pygments_lexer": "ipython3",
   "version": "3.9.12"
  }
 },
 "nbformat": 4,
 "nbformat_minor": 2
}