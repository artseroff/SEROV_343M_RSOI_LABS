{
 "cells": [
  {
   "cell_type": "markdown",
   "metadata": {},
   "source": [
    "#### Файл сервера xmlrpc_stats_server_p3.ipynb на Python 3 "
   ]
  },
  {
   "cell_type": "code",
   "execution_count": null,
   "metadata": {
    "pycharm": {
     "name": "#%%\n",
     "is_executing": true
    }
   },
   "outputs": [
    {
     "name": "stdout",
     "output_type": "stream",
     "text": [
      "Listening on port 8028...\n"
     ]
    },
    {
     "name": "stderr",
     "output_type": "stream",
     "text": [
      "127.0.0.1 - - [11/Oct/2023 12:03:17] \"POST /RPC2 HTTP/1.1\" 200 -\n"
     ]
    }
   ],
   "source": [
    "\n",
    "from xmlrpc.server import SimpleXMLRPCServer\n",
    "from xmlrpc.server import SimpleXMLRPCRequestHandler\n",
    "\n",
    "import datetime\n",
    "\n",
    "import os\n",
    "import pandas as pd\n",
    "import xmlrpc.client\n",
    "\n",
    "\n",
    "# Добавление в лог через сервер\n",
    "def add_log(event, event_time, work_time):\n",
    "    try:\n",
    "        stat_server.add_log(event, event_time, work_time)\n",
    "        return True\n",
    "    except ConnectionRefusedError:\n",
    "        return False\n",
    "\n",
    "def is_server_working():\n",
    "    try:\n",
    "        server.system.listMethods()\n",
    "        return True\n",
    "    except ConnectionRefusedError:\n",
    "        return False\n",
    "\n",
    "server = xmlrpc.client.ServerProxy(\"http://localhost:8008\")\n",
    "stat_server = xmlrpc.client.ServerProxy(\"http://localhost:8038\")\n",
    "\n",
    "class RequestHandler(SimpleXMLRPCRequestHandler):\n",
    "    rpc_paths = ('/RPC2',)\n",
    "\n",
    "class ProxyServer(SimpleXMLRPCServer):\n",
    "\n",
    "    def _dispatch(self, method, params):\n",
    "        if not is_server_working():\n",
    "            return \"server is not working\"\n",
    "        start_time = datetime.datetime.now()\n",
    "        func = getattr(server, method)\n",
    "        result = func(*params)\n",
    "        work_time = (datetime.datetime.now()-start_time).total_seconds()\n",
    "        event_time = datetime.datetime.now().strftime(\"%Y-%m-%d %H:%M:%S\")\n",
    "        add_log(method, event_time, work_time)\n",
    "        return result\n",
    "        # return execute(method, *params)\n",
    "\n",
    "proxy_server = ProxyServer((\"localhost\", 8028),\n",
    "                            requestHandler=RequestHandler)\n",
    "proxy_server.register_introspection_functions()\n",
    "\n",
    "print (\"Listening on port 8028...\")\n",
    "proxy_server.serve_forever()\n",
    "\n",
    "\n",
    "# def execute(fun_name, *args):\n",
    "#     methods = getListMethods()\n",
    "#     if methods is None:\n",
    "#         raise Exception(\"server is not working\")\n",
    "#     if not fun_name in methods:\n",
    "#         raise AttributeError(\"unsupported method\")\n",
    "#     stringify = lambda x: '\"'+x+'\"' if type(x) is str else str(x)\n",
    "#     list_str_args = map(stringify,args)\n",
    "#     string_from_args = ', '.join(list_str_args)\n",
    "#     return eval('server.'+fun_name+'('+string_from_args+')')\n",
    "\n",
    "# def execute(fun_name, *args):\n",
    "#     methods = getListMethods()\n",
    "#     if methods is None:\n",
    "#         raise ValueError(\"server is not working\")\n",
    "#     if not fun_name in methods:\n",
    "#         raise AttributeError(\"unsupported method\")\n",
    "#     return eval('server.'+fun_name)(*args)\n"
   ]
  },
  {
   "cell_type": "code",
   "execution_count": null,
   "metadata": {
    "pycharm": {
     "name": "#%%\n"
    }
   },
   "outputs": [],
   "source": []
  }
 ],
 "metadata": {
  "kernelspec": {
   "display_name": "Python 3 (ipykernel)",
   "language": "python",
   "name": "python3"
  },
  "language_info": {
   "codemirror_mode": {
    "name": "ipython",
    "version": 3
   },
   "file_extension": ".py",
   "mimetype": "text/x-python",
   "name": "python",
   "nbconvert_exporter": "python",
   "pygments_lexer": "ipython3",
   "version": "3.10.13"
  }
 },
 "nbformat": 4,
 "nbformat_minor": 2
}